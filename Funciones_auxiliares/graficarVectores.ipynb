{
 "cells": [
  {
   "cell_type": "code",
   "execution_count": null,
   "id": "c07b61cc",
   "metadata": {},
   "outputs": [],
   "source": [
    "def graficarVectores(vecs, cols, alpha=1):\n",
    "    plt.axvline(x=0, color='grey', zorder=0)\n",
    "    plt.axhline(y=0, color='grey', zorder=0)    \n",
    "    for i in range(len(vecs)):\n",
    "        x = np.concatenate([[0,0], vecs[i]])\n",
    "        plt.quiver(\n",
    "            [x[0]], \n",
    "            [x[1]], \n",
    "            [x[2]], \n",
    "            [x[3]], \n",
    "            angles='xy', \n",
    "            scale_units='xy', \n",
    "            scale=1, \n",
    "            alpha=alpha, \n",
    "            color = cols[i])"
   ]
  }
 ],
 "metadata": {
  "kernelspec": {
   "display_name": "venv",
   "language": "python",
   "name": "python3"
  },
  "language_info": {
   "codemirror_mode": {
    "name": "ipython",
    "version": 3
   },
   "file_extension": ".py",
   "mimetype": "text/x-python",
   "name": "python",
   "nbconvert_exporter": "python",
   "pygments_lexer": "ipython3",
   "version": "3.13.7"
  }
 },
 "nbformat": 4,
 "nbformat_minor": 5
}
