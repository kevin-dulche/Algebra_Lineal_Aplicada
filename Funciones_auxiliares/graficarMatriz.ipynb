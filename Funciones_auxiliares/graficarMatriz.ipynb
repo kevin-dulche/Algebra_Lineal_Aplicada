{
 "cells": [
  {
   "cell_type": "code",
   "execution_count": null,
   "id": "8ddb3c14",
   "metadata": {},
   "outputs": [],
   "source": [
    "def graficarMatriz(matriz, vectorCol=['red', 'blue']):\n",
    "    # crear el circulo unitario\n",
    "    x = np.linspace(-1, 1, 100)\n",
    "    y = np.sqrt(1 - (x**2))\n",
    "\n",
    "    # circculo unitario transformado\n",
    "    x1 = matriz[0,0]*x + matriz[0,1]*y\n",
    "    y1 = matriz[1,0]*x + matriz[1,1]*y\n",
    "    x1_neg = matriz[0,0]*x - matriz[0,1]*y\n",
    "    y1_neg = matriz[1,0]*x - matriz[1,1]*y\n",
    "\n",
    "    # vectores\n",
    "    u1 = [matriz[0,0], matriz[1,0]]\n",
    "    v1 = [matriz[0,1], matriz[1,1]]\n",
    "\n",
    "    graficarVectores([u1, v1], cols=[vectorCol[0], vectorCol[1]])\n",
    "\n",
    "    plt.plot(x1, y1, color='blue', alpha=0.7)\n",
    "    plt.plot(x1_neg, y1_neg, color='blue', alpha=0.7)"
   ]
  }
 ],
 "metadata": {
  "language_info": {
   "name": "python"
  }
 },
 "nbformat": 4,
 "nbformat_minor": 5
}
