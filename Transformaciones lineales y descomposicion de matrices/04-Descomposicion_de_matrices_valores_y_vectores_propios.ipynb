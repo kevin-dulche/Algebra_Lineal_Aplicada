{
 "cells": [
  {
   "cell_type": "code",
   "execution_count": 1,
   "id": "31ecf36a",
   "metadata": {},
   "outputs": [],
   "source": [
    "import numpy as np"
   ]
  },
  {
   "cell_type": "code",
   "execution_count": 2,
   "id": "68630967",
   "metadata": {},
   "outputs": [
    {
     "name": "stdout",
     "output_type": "stream",
     "text": [
      "[[3 2]\n",
      " [4 1]]\n"
     ]
    }
   ],
   "source": [
    "A = np.array([[3, 2], [4, 1]])\n",
    "print(A)"
   ]
  },
  {
   "cell_type": "code",
   "execution_count": 3,
   "id": "b5873933",
   "metadata": {},
   "outputs": [
    {
     "name": "stdout",
     "output_type": "stream",
     "text": [
      "Autovalores: [ 5. -1.]\n",
      "Autovectores:\n",
      " [[ 0.70710678 -0.4472136 ]\n",
      " [ 0.70710678  0.89442719]]\n"
     ]
    }
   ],
   "source": [
    "autovalores, autovectores = np.linalg.eig(A)\n",
    "print(\"Autovalores:\", autovalores)\n",
    "print(\"Autovectores:\\n\", autovectores)"
   ]
  },
  {
   "cell_type": "code",
   "execution_count": 4,
   "id": "dba57c97",
   "metadata": {},
   "outputs": [],
   "source": [
    "A_calculada = autovectores.dot(np.diag(autovalores)).dot(np.linalg.inv(autovectores))"
   ]
  },
  {
   "cell_type": "code",
   "execution_count": 5,
   "id": "5f08f525",
   "metadata": {},
   "outputs": [
    {
     "name": "stdout",
     "output_type": "stream",
     "text": [
      "[[3. 2.]\n",
      " [4. 1.]]\n"
     ]
    }
   ],
   "source": [
    "print(A_calculada)"
   ]
  },
  {
   "cell_type": "code",
   "execution_count": 6,
   "id": "5a235eaf",
   "metadata": {},
   "outputs": [
    {
     "name": "stdout",
     "output_type": "stream",
     "text": [
      "[[3 2]\n",
      " [2 3]]\n"
     ]
    }
   ],
   "source": [
    "A = np.array([[3,2], [2,3]])\n",
    "print(A)"
   ]
  },
  {
   "cell_type": "code",
   "execution_count": 7,
   "id": "b155b0f8",
   "metadata": {},
   "outputs": [
    {
     "name": "stdout",
     "output_type": "stream",
     "text": [
      "[[ True  True]\n",
      " [ True  True]]\n"
     ]
    }
   ],
   "source": [
    "print(A == A.T)  # Verificar"
   ]
  },
  {
   "cell_type": "code",
   "execution_count": 8,
   "id": "210e74e0",
   "metadata": {},
   "outputs": [
    {
     "name": "stdout",
     "output_type": "stream",
     "text": [
      "Autovalores: [5. 1.]\n",
      "Autovectores:\n",
      " [[ 0.70710678 -0.70710678]\n",
      " [ 0.70710678  0.70710678]]\n"
     ]
    }
   ],
   "source": [
    "autovalores, autovectores = np.linalg.eig(A)\n",
    "print(\"Autovalores:\", autovalores)\n",
    "print(\"Autovectores:\\n\", autovectores)"
   ]
  },
  {
   "cell_type": "code",
   "execution_count": 9,
   "id": "2dcfec45",
   "metadata": {},
   "outputs": [
    {
     "name": "stdout",
     "output_type": "stream",
     "text": [
      "[[3. 2.]\n",
      " [2. 3.]]\n"
     ]
    }
   ],
   "source": [
    "# A = A_Transpuesta\n",
    "# A = V * diag(λ) * V_inv donde:\n",
    "# V = matriz de autovectores\n",
    "# diag(λ) = matriz diagonal de autovalores\n",
    "# V_inv = inversa de la matriz de autovectores\n",
    "A_calculada = autovectores.dot(np.diag(autovalores)).dot(np.linalg.inv(autovectores))\n",
    "print(A_calculada)"
   ]
  },
  {
   "cell_type": "code",
   "execution_count": null,
   "id": "0edf0989",
   "metadata": {},
   "outputs": [],
   "source": []
  }
 ],
 "metadata": {
  "kernelspec": {
   "display_name": "venv",
   "language": "python",
   "name": "python3"
  },
  "language_info": {
   "codemirror_mode": {
    "name": "ipython",
    "version": 3
   },
   "file_extension": ".py",
   "mimetype": "text/x-python",
   "name": "python",
   "nbconvert_exporter": "python",
   "pygments_lexer": "ipython3",
   "version": "3.13.7"
  }
 },
 "nbformat": 4,
 "nbformat_minor": 5
}
