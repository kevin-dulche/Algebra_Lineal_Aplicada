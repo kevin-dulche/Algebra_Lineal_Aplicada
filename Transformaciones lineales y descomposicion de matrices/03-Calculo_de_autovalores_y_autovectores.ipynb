{
 "cells": [
  {
   "cell_type": "code",
   "execution_count": 1,
   "id": "614104ef",
   "metadata": {},
   "outputs": [],
   "source": [
    "%matplotlib inline\n",
    "\n",
    "import numpy as np\n",
    "import matplotlib.pyplot as plt"
   ]
  },
  {
   "cell_type": "code",
   "execution_count": 2,
   "id": "7c454d9b",
   "metadata": {},
   "outputs": [
    {
     "name": "stdout",
     "output_type": "stream",
     "text": [
      "[[3 2]\n",
      " [4 1]]\n"
     ]
    }
   ],
   "source": [
    "X = np.array([[3, 2], [4, 1]])\n",
    "print(X)"
   ]
  },
  {
   "cell_type": "code",
   "execution_count": 4,
   "id": "0f6c2f4d",
   "metadata": {},
   "outputs": [
    {
     "name": "stdout",
     "output_type": "stream",
     "text": [
      "EigResult(eigenvalues=array([ 5., -1.]), eigenvectors=array([[ 0.70710678, -0.4472136 ],\n",
      "       [ 0.70710678,  0.89442719]]))\n"
     ]
    }
   ],
   "source": [
    "print(np.linalg.eig(X))"
   ]
  },
  {
   "cell_type": "code",
   "execution_count": 5,
   "id": "e34eaf45",
   "metadata": {},
   "outputs": [
    {
     "name": "stdout",
     "output_type": "stream",
     "text": [
      "Autovalores: [ 5. -1.]\n"
     ]
    }
   ],
   "source": [
    "autovalores, autovectores = np.linalg.eig(X)\n",
    "print(\"Autovalores:\", autovalores)"
   ]
  },
  {
   "cell_type": "code",
   "execution_count": 8,
   "id": "ecf046ca",
   "metadata": {},
   "outputs": [
    {
     "name": "stdout",
     "output_type": "stream",
     "text": [
      "Autovector: [0.70710678 0.70710678]\n"
     ]
    }
   ],
   "source": [
    "print(\"Autovector:\", autovectores[:,0])"
   ]
  },
  {
   "cell_type": "code",
   "execution_count": 9,
   "id": "f7ce25a0",
   "metadata": {},
   "outputs": [
    {
     "name": "stdout",
     "output_type": "stream",
     "text": [
      "Autovector: [-0.4472136   0.89442719]\n"
     ]
    }
   ],
   "source": [
    "print(\"Autovector:\", autovectores[:,1])"
   ]
  },
  {
   "cell_type": "code",
   "execution_count": 10,
   "id": "992749fe",
   "metadata": {},
   "outputs": [],
   "source": [
    "%run \"../Funciones_auxiliares/graficarVectores.ipynb\""
   ]
  },
  {
   "cell_type": "code",
   "execution_count": 12,
   "id": "51cb093a",
   "metadata": {},
   "outputs": [],
   "source": [
    "v = np.array([[-1], [2]])\n",
    "Xv = X.dot(v)\n",
    "\n",
    "v_np = autovectores[:,1]"
   ]
  },
  {
   "cell_type": "code",
   "execution_count": 15,
   "id": "73f2e465",
   "metadata": {},
   "outputs": [
    {
     "data": {
      "text/plain": [
       "(-3.0, 3.0)"
      ]
     },
     "execution_count": 15,
     "metadata": {},
     "output_type": "execute_result"
    },
    {
     "data": {
      "image/png": "[encoded data removed]",
      "text/plain": [
       "<Figure size 640x480 with 1 Axes>"
      ]
     },
     "metadata": {},
     "output_type": "display_data"
    }
   ],
   "source": [
    "graficarVectores([Xv.flatten(), v.flatten(), v_np], cols=['green','orange','blue'])\n",
    "plt.xlim(-3,3)\n",
    "plt.ylim(-3,3)"
   ]
  }
 ],
 "metadata": {
  "kernelspec": {
   "display_name": "venv",
   "language": "python",
   "name": "python3"
  },
  "language_info": {
   "codemirror_mode": {
    "name": "ipython",
    "version": 3
   },
   "file_extension": ".py",
   "mimetype": "text/x-python",
   "name": "python",
   "nbconvert_exporter": "python",
   "pygments_lexer": "ipython3",
   "version": "3.13.7"
  }
 },
 "nbformat": 4,
 "nbformat_minor": 5
}
